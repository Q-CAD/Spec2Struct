{
 "cells": [
  {
   "cell_type": "code",
   "execution_count": 1,
   "metadata": {},
   "outputs": [
    {
     "name": "stdout",
     "output_type": "stream",
     "text": [
      "Fri Jun 14 06:41:58 2024       \n",
      "+-----------------------------------------------------------------------------+\n",
      "| NVIDIA-SMI 525.105.17   Driver Version: 525.105.17   CUDA Version: 12.2     |\n",
      "|-------------------------------+----------------------+----------------------+\n",
      "| GPU  Name        Persistence-M| Bus-Id        Disp.A | Volatile Uncorr. ECC |\n",
      "| Fan  Temp  Perf  Pwr:Usage/Cap|         Memory-Usage | GPU-Util  Compute M. |\n",
      "|                               |                      |               MIG M. |\n",
      "|===============================+======================+======================|\n",
      "|   0  NVIDIA A100-PCI...  On   | 00000000:C3:00.0 Off |                    0 |\n",
      "| N/A   35C    P0    35W / 250W |      2MiB / 40960MiB |      0%      Default |\n",
      "|                               |                      |             Disabled |\n",
      "+-------------------------------+----------------------+----------------------+\n",
      "                                                                               \n",
      "+-----------------------------------------------------------------------------+\n",
      "| Processes:                                                                  |\n",
      "|  GPU   GI   CI        PID   Type   Process name                  GPU Memory |\n",
      "|        ID   ID                                                   Usage      |\n",
      "|=============================================================================|\n",
      "|  No running processes found                                                 |\n",
      "+-----------------------------------------------------------------------------+\n"
     ]
    }
   ],
   "source": [
    "!nvidia-smi"
   ]
  },
  {
   "cell_type": "code",
   "execution_count": 2,
   "metadata": {},
   "outputs": [],
   "source": [
    "from atomdiff.models.prior import LitScoreNet\n",
    "from atomdiff.datasets import *"
   ]
  },
  {
   "cell_type": "code",
   "execution_count": 3,
   "metadata": {},
   "outputs": [],
   "source": [
    "data_module = StructureMPDataModule(\n",
    "    data_dir='data/mp-20-reduced/',\n",
    "    cutoff=3.0,\n",
    "    train_prior=True,\n",
    "    k=0.8,\n",
    "    train_size=0.9,\n",
    "    scale_y=1.0,\n",
    "    dup=1,\n",
    "    batch_size=1,\n",
    "    num_workers=4\n",
    ")\n",
    "\n",
    "# score_net = LitScoreNet(\n",
    "#     num_species=82, \n",
    "#     num_convs=5, \n",
    "#     dim=200, \n",
    "#     ema_decay=0.9999, \n",
    "#     learn_rate=1e-3\n",
    "# )\n",
    "\n",
    "score_net = LitScoreNet.load_from_checkpoint(\n",
    "    '/global/homes/s/shuyijia/playground/atom-diff/training_logs/mp-2-reduced/version_0/checkpoints/epoch=12-step=400000.ckpt'\n",
    ")"
   ]
  },
  {
   "cell_type": "code",
   "execution_count": 4,
   "metadata": {},
   "outputs": [
    {
     "name": "stdout",
     "output_type": "stream",
     "text": [
      "LitScoreNet(\n",
      "  (model): ScoreModel(\n",
      "    (encoder): Encoder(\n",
      "      (embed_node): Sequential(\n",
      "        (0): MLP(dims=[82, 200, 200], act=SiLU())\n",
      "        (1): LayerNorm((200,), eps=1e-05, elementwise_affine=True)\n",
      "      )\n",
      "      (embed_edge): Sequential(\n",
      "        (0): MLP(dims=[4, 200, 200], act=SiLU())\n",
      "        (1): LayerNorm((200,), eps=1e-05, elementwise_affine=True)\n",
      "      )\n",
      "      (embed_time): Sequential(\n",
      "        (0): GaussianRandomFourierFeatures()\n",
      "        (1): MLP(dims=[200, 200, 200], act=SiLU())\n",
      "        (2): LayerNorm((200,), eps=1e-05, elementwise_affine=True)\n",
      "      )\n",
      "    )\n",
      "    (processor): Processor(\n",
      "      (convs): ModuleList(\n",
      "        (0-4): 5 x MeshGraphNetsConv(\n",
      "          node_dim=200, edge_dim=200\n",
      "          (edge_processor): EdgeProcessor(\n",
      "            (edge_mlp): Sequential(\n",
      "              (0): MLP(dims=[600, 200, 200, 200], act=SiLU())\n",
      "              (1): LayerNorm((200,), eps=1e-05, elementwise_affine=True)\n",
      "            )\n",
      "          )\n",
      "          (node_processor): NodeProcessor(\n",
      "            (node_mlp): Sequential(\n",
      "              (0): MLP(dims=[400, 200, 200, 200], act=SiLU())\n",
      "              (1): LayerNorm((200,), eps=1e-05, elementwise_affine=True)\n",
      "            )\n",
      "          )\n",
      "        )\n",
      "      )\n",
      "    )\n",
      "    (decoder): Decoder(\n",
      "      (decoder): MLP(dims=[200, 200, 3], act=SiLU())\n",
      "    )\n",
      "  )\n",
      "  (ema_model): AveragedModel(\n",
      "    (module): ScoreModel(\n",
      "      (encoder): Encoder(\n",
      "        (embed_node): Sequential(\n",
      "          (0): MLP(dims=[82, 200, 200], act=SiLU())\n",
      "          (1): LayerNorm((200,), eps=1e-05, elementwise_affine=True)\n",
      "        )\n",
      "        (embed_edge): Sequential(\n",
      "          (0): MLP(dims=[4, 200, 200], act=SiLU())\n",
      "          (1): LayerNorm((200,), eps=1e-05, elementwise_affine=True)\n",
      "        )\n",
      "        (embed_time): Sequential(\n",
      "          (0): GaussianRandomFourierFeatures()\n",
      "          (1): MLP(dims=[200, 200, 200], act=SiLU())\n",
      "          (2): LayerNorm((200,), eps=1e-05, elementwise_affine=True)\n",
      "        )\n",
      "      )\n",
      "      (processor): Processor(\n",
      "        (convs): ModuleList(\n",
      "          (0-4): 5 x MeshGraphNetsConv(\n",
      "            node_dim=200, edge_dim=200\n",
      "            (edge_processor): EdgeProcessor(\n",
      "              (edge_mlp): Sequential(\n",
      "                (0): MLP(dims=[600, 200, 200, 200], act=SiLU())\n",
      "                (1): LayerNorm((200,), eps=1e-05, elementwise_affine=True)\n",
      "              )\n",
      "            )\n",
      "            (node_processor): NodeProcessor(\n",
      "              (node_mlp): Sequential(\n",
      "                (0): MLP(dims=[400, 200, 200, 200], act=SiLU())\n",
      "                (1): LayerNorm((200,), eps=1e-05, elementwise_affine=True)\n",
      "              )\n",
      "            )\n",
      "          )\n",
      "        )\n",
      "      )\n",
      "      (decoder): Decoder(\n",
      "        (decoder): MLP(dims=[200, 200, 3], act=SiLU())\n",
      "      )\n",
      "    )\n",
      "  )\n",
      ")\n"
     ]
    }
   ],
   "source": [
    "print(score_net)"
   ]
  },
  {
   "cell_type": "code",
   "execution_count": 5,
   "metadata": {},
   "outputs": [
    {
     "name": "stdout",
     "output_type": "stream",
     "text": [
      "2059\n",
      "Creating torch_geometric.data.Data objects...\n"
     ]
    },
    {
     "name": "stderr",
     "output_type": "stream",
     "text": [
      "100%|██████████| 2059/2059 [00:00<00:00, 2686.30it/s]\n"
     ]
    }
   ],
   "source": [
    "from atomdiff.utils.pbc import periodic_radius_graph\n",
    "\n",
    "data_module.setup()\n",
    "diffuser = data_module.train_set.diffuser\n",
    "\n",
    "def prior_score(z, pos, cell, t, cutoff=data_module.cutoff):\n",
    "    edge_index, edge_vec = periodic_radius_graph(pos, cutoff, cell)\n",
    "    edge_len  = edge_vec.norm(dim=-1, keepdim=True)\n",
    "    edge_attr = torch.hstack([edge_vec, edge_len])\n",
    "    return score_net.ema_model(z, edge_index, edge_attr, t, diffuser.sigma(t))\n",
    "\n",
    "def denoise_by_sde(z, pos, cell, score_fn, ts=torch.linspace(0.999, 0.001, 128+1)):\n",
    "    ts = ts.to(pos.device).view(-1, 1)\n",
    "    pos_traj = [pos.clone()]\n",
    "    f, g, g2 = diffuser.f, diffuser.g, diffuser.g2\n",
    "    for i, t in enumerate(ts[1:]):\n",
    "        dt = ts[i+1] - ts[i]\n",
    "        eps = dt.abs().sqrt() * torch.randn_like(pos)\n",
    "        score = score_fn(z, pos, cell, t)\n",
    "        disp = (f(t)*pos - g2(t)*score)*dt + g(t)*eps\n",
    "        pos += disp\n",
    "        pos_traj.append(pos.clone())\n",
    "    return torch.stack(pos_traj)"
   ]
  },
  {
   "cell_type": "code",
   "execution_count": 6,
   "metadata": {},
   "outputs": [],
   "source": [
    "train_loader = data_module.train_dataloader()"
   ]
  },
  {
   "cell_type": "code",
   "execution_count": 24,
   "metadata": {},
   "outputs": [],
   "source": [
    "import ase.io\n",
    "\n",
    "device = 'cuda'\n",
    "path = \"./data/mp-20-reduced/raw_train/mp-1210001.cif\"\n",
    "\n",
    "atoms = ase.io.read(path)\n",
    "\n",
    "atomic_numbers = atoms.numbers\n",
    "positions = torch.tensor(atoms.positions, dtype=torch.float)\n",
    "cell = torch.tensor(atoms.cell.array, dtype=torch.float)\n",
    "\n",
    "z = train_loader.dataset.atom_encoder.transform(atomic_numbers.reshape(-1, 1))\n",
    "z = torch.tensor(z, dtype=torch.float)\n",
    "\n",
    "positions = positions.to(device)\n",
    "cell = cell.to(device)\n",
    "z = z.to(device)"
   ]
  },
  {
   "cell_type": "code",
   "execution_count": 26,
   "metadata": {},
   "outputs": [
    {
     "data": {
      "application/vnd.jupyter.widget-view+json": {
       "model_id": "9669ed333f404e048812d4bbb14e21f6",
       "version_major": 2,
       "version_minor": 0
      },
      "text/plain": [
       "  0%|          | 0/1 [00:00<?, ?it/s]"
      ]
     },
     "metadata": {},
     "output_type": "display_data"
    }
   ],
   "source": [
    "import random\n",
    "import ase\n",
    "from tqdm.notebook import trange\n",
    "\n",
    "# Setup\n",
    "NUM_GEN = 1       # number of generations/cells\n",
    "\n",
    "score_net.ema_model.to(device)\n",
    "\n",
    "priors = []\n",
    "with torch.no_grad():\n",
    "    for i in trange(NUM_GEN):\n",
    "        \n",
    "        # Start with a random structure\n",
    "        pos = torch.rand(positions.shape).to(device) @ cell\n",
    "\n",
    "        # Denoise\n",
    "        pos_traj = denoise_by_sde(z, pos, cell, prior_score, ts=torch.linspace(0.999, 0.001, 64+1))\n",
    "        pos = pos_traj[-1]\n",
    "        \n",
    "        # Convert generation to ASE Atoms\n",
    "        atoms = ase.Atoms(numbers=atomic_numbers, positions=pos.detach().cpu().numpy(), cell=cell.cpu().numpy(), pbc=[True]*3)\n",
    "        atoms.wrap()\n",
    "        priors.append(atoms)"
   ]
  },
  {
   "cell_type": "code",
   "execution_count": 31,
   "metadata": {},
   "outputs": [],
   "source": [
    "for i, _pos in enumerate(pos_traj):\n",
    "    atoms = ase.Atoms(numbers=atomic_numbers, positions=_pos.detach().cpu().numpy(), cell=cell.cpu().numpy(), pbc=[True]*3)\n",
    "    ase.io.write(f'./outputs/mp-20-reduced/{i}.cif', atoms)"
   ]
  },
  {
   "cell_type": "code",
   "execution_count": null,
   "metadata": {},
   "outputs": [],
   "source": []
  }
 ],
 "metadata": {
  "kernelspec": {
   "display_name": "graphite",
   "language": "python",
   "name": "python3"
  },
  "language_info": {
   "codemirror_mode": {
    "name": "ipython",
    "version": 3
   },
   "file_extension": ".py",
   "mimetype": "text/x-python",
   "name": "python",
   "nbconvert_exporter": "python",
   "pygments_lexer": "ipython3",
   "version": "3.12.3"
  }
 },
 "nbformat": 4,
 "nbformat_minor": 2
}
