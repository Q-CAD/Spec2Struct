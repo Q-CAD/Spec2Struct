{
 "cells": [
  {
   "cell_type": "code",
   "execution_count": 1,
   "metadata": {},
   "outputs": [],
   "source": [
    "import os\n",
    "import json\n",
    "import ase\n",
    "from glob import glob\n",
    "from ase import Atoms\n",
    "from tqdm import tqdm\n",
    "import numpy as np\n",
    "from collections import defaultdict\n",
    "\n",
    "import torch\n",
    "\n",
    "from atomdiff.models.prior import LitScoreNet\n",
    "from atomdiff.datasets import *\n",
    "\n",
    "from graphite.nn import periodic_radius_graph"
   ]
  },
  {
   "cell_type": "code",
   "execution_count": 2,
   "metadata": {},
   "outputs": [
    {
     "name": "stdout",
     "output_type": "stream",
     "text": [
      "Getting PyG Data objects...\n"
     ]
    },
    {
     "name": "stderr",
     "output_type": "stream",
     "text": [
      "100%|██████████| 1/1 [00:00<00:00, 48.72it/s]\n",
      "100%|██████████| 1/1 [00:00<00:00, 982.27it/s]\n"
     ]
    }
   ],
   "source": [
    "data_module = StructureDataModule(\n",
    "    data_dir='./data/dummy/',\n",
    "    cutoff=5.0,\n",
    "    train_prior=True,\n",
    "    k=0.8,\n",
    "    train_size=0.9,\n",
    "    scale_y=1.0,\n",
    "    dup=1,\n",
    "    batch_size=1,\n",
    "    num_workers=4\n",
    ")\n",
    "\n",
    "score_net = LitScoreNet.load_from_checkpoint(\n",
    "    './training_logs/stem-vasp-dup128/version_4/checkpoints/epoch=999-step=1250000.ckpt'\n",
    ")\n",
    "\n",
    "data_module.setup()\n",
    "diffuser = data_module.train_set.diffuser"
   ]
  },
  {
   "cell_type": "code",
   "execution_count": 3,
   "metadata": {},
   "outputs": [],
   "source": [
    "def prior_score(z, pos, cell, t, cutoff=data_module.cutoff):\n",
    "    edge_index, edge_vec = periodic_radius_graph(pos, cutoff, cell)\n",
    "    edge_len  = edge_vec.norm(dim=-1, keepdim=True)\n",
    "    edge_attr = torch.hstack([edge_vec, edge_len])\n",
    "    return score_net.ema_model(z, edge_index, edge_attr, t, diffuser.sigma(t))\n",
    "\n",
    "def denoise_by_sde(z, pos, cell, score_fn, ts=torch.linspace(0.999, 0.001, 128+1)):\n",
    "    ts = ts.to(pos.device).view(-1, 1)\n",
    "    pos_traj = [pos.clone()]\n",
    "    f, g, g2 = diffuser.f, diffuser.g, diffuser.g2\n",
    "    for i, t in enumerate(ts[1:]):\n",
    "        dt = ts[i+1] - ts[i]\n",
    "        eps = dt.abs().sqrt() * torch.randn_like(pos)\n",
    "        score = score_fn(z, pos, cell, t)\n",
    "        disp = (f(t)*pos - g2(t)*score)*dt + g(t)*eps\n",
    "        pos += disp\n",
    "        pos_traj.append(pos.clone())\n",
    "    return torch.stack(pos_traj)"
   ]
  },
  {
   "cell_type": "markdown",
   "metadata": {},
   "source": [
    "### Get all validation structures"
   ]
  },
  {
   "cell_type": "code",
   "execution_count": 4,
   "metadata": {},
   "outputs": [],
   "source": [
    "path = \"./data/stem/vasp/\"\n",
    "cifs = glob(path + \"*.vasp\")"
   ]
  },
  {
   "cell_type": "code",
   "execution_count": 7,
   "metadata": {},
   "outputs": [
    {
     "name": "stderr",
     "output_type": "stream",
     "text": [
      "100%|██████████| 625/625 [17:26<00:00,  1.67s/it]\n"
     ]
    }
   ],
   "source": [
    "device = 'cuda'\n",
    "score_net.ema_model.to(device)\n",
    "\n",
    "save_path = \"outputs/stem_vasp_ts_512/\"\n",
    "\n",
    "if not os.path.exists(save_path):\n",
    "    os.makedirs(save_path)\n",
    "\n",
    "for cif in tqdm(cifs, disable=False):\n",
    "    sname = Path(cif).stem\n",
    "    atoms = ase.io.read(cif)\n",
    "\n",
    "    pos = torch.tensor(atoms.positions, dtype=torch.float, device=device)\n",
    "    cell = torch.tensor(atoms.cell.array, dtype=torch.float, device=device)\n",
    "    atomic_numbers = atoms.numbers\n",
    "\n",
    "    # random positions\n",
    "    random_pos = torch.rand_like(pos, device=device) @ cell\n",
    "    random_pos_clone = random_pos.clone().detach()\n",
    "    \n",
    "    # initialize z \n",
    "    z = torch.tensor(atoms.numbers, device=device)\n",
    "    z = data_module.train_set.atom_encoder(z)\n",
    "    z = z.float()\n",
    "\n",
    "    # denoise\n",
    "    pos_traj = denoise_by_sde(z, random_pos, cell, prior_score, ts=torch.linspace(0.999, 0.001, 512+1))\n",
    "    final_pos = pos_traj[-1]\n",
    "\n",
    "    # save traj\n",
    "    denoise_traj = [\n",
    "        ase.Atoms(\n",
    "            numbers=atomic_numbers,\n",
    "            positions=each.detach().cpu().numpy(),\n",
    "            cell=cell.cpu().numpy(),\n",
    "            pbc=[True] * 3\n",
    "        )\n",
    "        for each in pos_traj\n",
    "    ]\n",
    "\n",
    "    ase.io.write(f\"{save_path}{sname}.extxyz\", denoise_traj)\n",
    "\n",
    "\n",
    "    # save final structure\n",
    "    atoms = ase.Atoms(\n",
    "        numbers=atomic_numbers,\n",
    "        positions=final_pos.detach().cpu().numpy(),\n",
    "        cell=cell.cpu().numpy(),\n",
    "        pbc=[True] * 3\n",
    "    )\n",
    "\n",
    "    ase.io.write(f\"{save_path}{sname}_final.cif\", atoms)\n",
    "\n",
    "    # save_initial_structure\n",
    "    atoms = ase.Atoms(\n",
    "        numbers=atomic_numbers,\n",
    "        positions=random_pos_clone.cpu().numpy(),\n",
    "        cell=cell.cpu().numpy(),\n",
    "        pbc=[True] * 3\n",
    "    )\n",
    "\n",
    "    ase.io.write(f\"{save_path}{sname}_initial.cif\", atoms)"
   ]
  },
  {
   "cell_type": "code",
   "execution_count": null,
   "metadata": {},
   "outputs": [],
   "source": [
    "!nvidia-smi"
   ]
  },
  {
   "cell_type": "code",
   "execution_count": null,
   "metadata": {},
   "outputs": [],
   "source": [
    "# Get detailed memory statistics\n",
    "stats = torch.cuda.memory_stats()\n",
    "\n",
    "# Print detailed memory statistics\n",
    "for key, value in stats.items():\n",
    "    print(f\"{key}: {value}\")"
   ]
  },
  {
   "cell_type": "code",
   "execution_count": null,
   "metadata": {},
   "outputs": [],
   "source": [
    "cifs[:5]"
   ]
  },
  {
   "cell_type": "code",
   "execution_count": null,
   "metadata": {},
   "outputs": [],
   "source": []
  }
 ],
 "metadata": {
  "kernelspec": {
   "display_name": "graphite",
   "language": "python",
   "name": "python3"
  },
  "language_info": {
   "codemirror_mode": {
    "name": "ipython",
    "version": 3
   },
   "file_extension": ".py",
   "mimetype": "text/x-python",
   "name": "python",
   "nbconvert_exporter": "python",
   "pygments_lexer": "ipython3",
   "version": "3.12.3"
  }
 },
 "nbformat": 4,
 "nbformat_minor": 2
}
